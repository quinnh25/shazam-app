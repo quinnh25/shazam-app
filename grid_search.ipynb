{
 "cells": [
  {
   "cell_type": "code",
   "execution_count": 1,
   "id": "eb132212",
   "metadata": {},
   "outputs": [],
   "source": [
    "import numpy as np\n",
    "import pandas as pd"
   ]
  },
  {
   "cell_type": "code",
   "execution_count": 2,
   "id": "3ac308d5",
   "metadata": {},
   "outputs": [
    {
     "data": {
      "text/html": [
       "<div>\n",
       "<style scoped>\n",
       "    .dataframe tbody tr th:only-of-type {\n",
       "        vertical-align: middle;\n",
       "    }\n",
       "\n",
       "    .dataframe tbody tr th {\n",
       "        vertical-align: top;\n",
       "    }\n",
       "\n",
       "    .dataframe thead th {\n",
       "        text-align: right;\n",
       "    }\n",
       "</style>\n",
       "<table border=\"1\" class=\"dataframe\">\n",
       "  <thead>\n",
       "    <tr style=\"text-align: right;\">\n",
       "      <th></th>\n",
       "      <th>ground_truth</th>\n",
       "      <th>prediction</th>\n",
       "      <th>correct</th>\n",
       "      <th>metrics</th>\n",
       "      <th>microphone_audio</th>\n",
       "    </tr>\n",
       "  </thead>\n",
       "  <tbody>\n",
       "    <tr>\n",
       "      <th>0</th>\n",
       "      <td>1</td>\n",
       "      <td>1</td>\n",
       "      <td>True</td>\n",
       "      <td>{1: {'std_of_deltaT': 24.58021542831823, 'n_ha...</td>\n",
       "      <td>[-0.00858134, 0.0061133597, 0.0056532193, -0.0...</td>\n",
       "    </tr>\n",
       "    <tr>\n",
       "      <th>1</th>\n",
       "      <td>1</td>\n",
       "      <td>1</td>\n",
       "      <td>True</td>\n",
       "      <td>{1: {'std_of_deltaT': 15.733862935188029, 'n_h...</td>\n",
       "      <td>[0.004619666, -0.00025240716, 0.006678564, -0....</td>\n",
       "    </tr>\n",
       "    <tr>\n",
       "      <th>2</th>\n",
       "      <td>1</td>\n",
       "      <td>1</td>\n",
       "      <td>True</td>\n",
       "      <td>{1: {'std_of_deltaT': 15.057086769942327, 'n_h...</td>\n",
       "      <td>[-0.020336598, -0.026521448, -0.013880938, 0.0...</td>\n",
       "    </tr>\n",
       "    <tr>\n",
       "      <th>3</th>\n",
       "      <td>1</td>\n",
       "      <td>1</td>\n",
       "      <td>True</td>\n",
       "      <td>{1: {'std_of_deltaT': 16.201833431663424, 'n_h...</td>\n",
       "      <td>[0.004058216, -0.0076125516, 0.0068851206, -0....</td>\n",
       "    </tr>\n",
       "    <tr>\n",
       "      <th>4</th>\n",
       "      <td>1</td>\n",
       "      <td>1</td>\n",
       "      <td>True</td>\n",
       "      <td>{1: {'std_of_deltaT': 24.339614867176888, 'n_h...</td>\n",
       "      <td>[0.005670398, 0.0015003644, -0.0003865804, 0.0...</td>\n",
       "    </tr>\n",
       "  </tbody>\n",
       "</table>\n",
       "</div>"
      ],
      "text/plain": [
       "   ground_truth  prediction  correct  \\\n",
       "0             1           1     True   \n",
       "1             1           1     True   \n",
       "2             1           1     True   \n",
       "3             1           1     True   \n",
       "4             1           1     True   \n",
       "\n",
       "                                             metrics  \\\n",
       "0  {1: {'std_of_deltaT': 24.58021542831823, 'n_ha...   \n",
       "1  {1: {'std_of_deltaT': 15.733862935188029, 'n_h...   \n",
       "2  {1: {'std_of_deltaT': 15.057086769942327, 'n_h...   \n",
       "3  {1: {'std_of_deltaT': 16.201833431663424, 'n_h...   \n",
       "4  {1: {'std_of_deltaT': 24.339614867176888, 'n_h...   \n",
       "\n",
       "                                    microphone_audio  \n",
       "0  [-0.00858134, 0.0061133597, 0.0056532193, -0.0...  \n",
       "1  [0.004619666, -0.00025240716, 0.006678564, -0....  \n",
       "2  [-0.020336598, -0.026521448, -0.013880938, 0.0...  \n",
       "3  [0.004058216, -0.0076125516, 0.0068851206, -0....  \n",
       "4  [0.005670398, 0.0015003644, -0.0003865804, 0.0...  "
      ]
     },
     "execution_count": 2,
     "metadata": {},
     "output_type": "execute_result"
    }
   ],
   "source": [
    "df = pd.read_pickle(\"max_results.pkl\")\n",
    "df.head()"
   ]
  },
  {
   "cell_type": "code",
   "execution_count": 3,
   "id": "8f46bed6",
   "metadata": {},
   "outputs": [
    {
     "data": {
      "text/plain": [
       "np.float64(1.0)"
      ]
     },
     "execution_count": 3,
     "metadata": {},
     "output_type": "execute_result"
    }
   ],
   "source": [
    "df[\"correct\"].sum() / df.shape[0]"
   ]
  },
  {
   "cell_type": "code",
   "execution_count": 4,
   "id": "ce03321b",
   "metadata": {},
   "outputs": [
    {
     "data": {
      "text/html": [
       "<div>\n",
       "<style scoped>\n",
       "    .dataframe tbody tr th:only-of-type {\n",
       "        vertical-align: middle;\n",
       "    }\n",
       "\n",
       "    .dataframe tbody tr th {\n",
       "        vertical-align: top;\n",
       "    }\n",
       "\n",
       "    .dataframe thead th {\n",
       "        text-align: right;\n",
       "    }\n",
       "</style>\n",
       "<table border=\"1\" class=\"dataframe\">\n",
       "  <thead>\n",
       "    <tr style=\"text-align: right;\">\n",
       "      <th></th>\n",
       "      <th>1</th>\n",
       "      <th>2</th>\n",
       "    </tr>\n",
       "  </thead>\n",
       "  <tbody>\n",
       "    <tr>\n",
       "      <th>std_of_deltaT</th>\n",
       "      <td>24.580215</td>\n",
       "      <td>20.031976</td>\n",
       "    </tr>\n",
       "    <tr>\n",
       "      <th>n_hash_matches</th>\n",
       "      <td>308.000000</td>\n",
       "      <td>80.000000</td>\n",
       "    </tr>\n",
       "    <tr>\n",
       "      <th>n_sample_hashes</th>\n",
       "      <td>1875.000000</td>\n",
       "      <td>1875.000000</td>\n",
       "    </tr>\n",
       "    <tr>\n",
       "      <th>prop_hash_matches</th>\n",
       "      <td>0.164267</td>\n",
       "      <td>0.042667</td>\n",
       "    </tr>\n",
       "    <tr>\n",
       "      <th>histogram_max_height</th>\n",
       "      <td>23.000000</td>\n",
       "      <td>8.000000</td>\n",
       "    </tr>\n",
       "  </tbody>\n",
       "</table>\n",
       "</div>"
      ],
      "text/plain": [
       "                                1            2\n",
       "std_of_deltaT           24.580215    20.031976\n",
       "n_hash_matches         308.000000    80.000000\n",
       "n_sample_hashes       1875.000000  1875.000000\n",
       "prop_hash_matches        0.164267     0.042667\n",
       "histogram_max_height    23.000000     8.000000"
      ]
     },
     "execution_count": 4,
     "metadata": {},
     "output_type": "execute_result"
    }
   ],
   "source": [
    "first_mic_sample_metrics = pd.DataFrame(df[\"metrics\"][0])\n",
    "first_mic_sample_metrics.head()"
   ]
  },
  {
   "cell_type": "code",
   "execution_count": 5,
   "id": "e6c792db",
   "metadata": {},
   "outputs": [
    {
     "data": {
      "text/plain": [
       "std_of_deltaT           1\n",
       "n_hash_matches          1\n",
       "n_sample_hashes         1\n",
       "prop_hash_matches       1\n",
       "histogram_max_height    1\n",
       "dtype: int64"
      ]
     },
     "execution_count": 5,
     "metadata": {},
     "output_type": "execute_result"
    }
   ],
   "source": [
    "first_mic_sample_metrics.idxmax(axis=1)"
   ]
  },
  {
   "cell_type": "code",
   "execution_count": 6,
   "id": "e19acf02",
   "metadata": {},
   "outputs": [
    {
     "name": "stdout",
     "output_type": "stream",
     "text": [
      "(513, 1632)\n"
     ]
    }
   ],
   "source": [
    "from cm_visualizations import visualize_map_interactive\n",
    "from DBcontrol import retrieve_song\n",
    "plastic_beach = retrieve_song(1)[\"audio_path\"]\n",
    "visualize_map_interactive(plastic_beach)"
   ]
  }
 ],
 "metadata": {
  "kernelspec": {
   "display_name": "env",
   "language": "python",
   "name": "python3"
  },
  "language_info": {
   "codemirror_mode": {
    "name": "ipython",
    "version": 3
   },
   "file_extension": ".py",
   "mimetype": "text/x-python",
   "name": "python",
   "nbconvert_exporter": "python",
   "pygments_lexer": "ipython3",
   "version": "3.13.8"
  }
 },
 "nbformat": 4,
 "nbformat_minor": 5
}
